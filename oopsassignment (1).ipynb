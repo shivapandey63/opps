{
 "cells": [
  {
   "cell_type": "markdown",
   "id": "0d485e9c-57c3-417d-94e4-b8bcbdfc866e",
   "metadata": {},
   "source": [
    "Answer-1\n",
    "\n",
    "Abstraction in python is defined as a process of handling complexity by hiding unnecessary information from the user. This is one of the core concepts of object-oriented programming (OOP) languages."
   ]
  },
  {
   "cell_type": "markdown",
   "id": "4234720f-82ae-4300-8add-5f656d5625e2",
   "metadata": {},
   "source": [
    "Answer-2\n",
    "\n",
    "Abstraction is implemented to hide unnecessary data and withdrawing relevant data. \n",
    "Encapsulation is the mechanism of hiding the code and the data together from the outside world or misuse."
   ]
  },
  {
   "cell_type": "markdown",
   "id": "0929b11d-ddae-4390-b1d5-c5bdd783d377",
   "metadata": {},
   "source": [
    "Answer-3\n",
    "\n",
    "The 'abc' module in Python library provides the infrastructure for defining custom abstract base classes. 'abc' works by marking methods of the base class as abstract."
   ]
  },
  {
   "cell_type": "markdown",
   "id": "5a2ee922-a33c-4a36-a319-2555a4703cf7",
   "metadata": {},
   "source": [
    "Answer-4\n",
    "\n",
    "Data Abstraction in Python can be achieved through creating abstract classes and inheriting them later."
   ]
  },
  {
   "cell_type": "markdown",
   "id": "6db0906a-a2ca-436d-b6cc-4dcf604d6785",
   "metadata": {},
   "source": [
    "Answer-5\n",
    "\n",
    "Abstract classes cannot be instantiated, but they can be subclassed. When an abstract class is subclassed, the subclass usually provides implementations for all of the abstract methods in its parent class. However, if it does not, then the subclass must also be declared abstract ."
   ]
  }
 ],
 "metadata": {
  "kernelspec": {
   "display_name": "Python 3 (ipykernel)",
   "language": "python",
   "name": "python3"
  },
  "language_info": {
   "codemirror_mode": {
    "name": "ipython",
    "version": 3
   },
   "file_extension": ".py",
   "mimetype": "text/x-python",
   "name": "python",
   "nbconvert_exporter": "python",
   "pygments_lexer": "ipython3",
   "version": "3.10.8"
  }
 },
 "nbformat": 4,
 "nbformat_minor": 5
}
